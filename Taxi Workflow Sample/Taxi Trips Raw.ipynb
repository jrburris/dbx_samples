{
 "cells": [
  {
   "cell_type": "code",
   "execution_count": 0,
   "metadata": {
    "application/vnd.databricks.v1+cell": {
     "cellMetadata": {
      "byteLimit": 2048000,
      "rowLimit": 10000
     },
     "inputWidgets": {},
     "nuid": "2d78f99a-5205-4fb2-b113-9c685750ef5a",
     "showTitle": false,
     "tableResultSettingsMap": {},
     "title": ""
    }
   },
   "outputs": [],
   "source": [
    "from pyspark.sql.functions import rand\n",
    "import json\n",
    "from datetime import datetime, timedelta"
   ]
  },
  {
   "cell_type": "code",
   "execution_count": 0,
   "metadata": {
    "application/vnd.databricks.v1+cell": {
     "cellMetadata": {
      "byteLimit": 2048000,
      "rowLimit": 10000
     },
     "inputWidgets": {},
     "nuid": "69072477-3d3d-4ce7-8e6e-8810336b9e2b",
     "showTitle": false,
     "tableResultSettingsMap": {},
     "title": ""
    }
   },
   "outputs": [],
   "source": [
    "\n",
    "# Randon Sample of taxi data\n",
    "df = spark.table(\"samples.nyctaxi.trips\").orderBy(rand()).limit(30)\n",
    "display(df)\n",
    "\n",
    "# Convert to pandas then json\n",
    "pdf = df.toPandas()\n",
    "data = pdf.to_json(orient='records', date_format='iso')\n"
   ]
  },
  {
   "cell_type": "code",
   "execution_count": 0,
   "metadata": {
    "application/vnd.databricks.v1+cell": {
     "cellMetadata": {
      "byteLimit": 2048000,
      "rowLimit": 10000
     },
     "inputWidgets": {},
     "nuid": "7195bbae-87be-4a31-bb2e-d4d40f9a3592",
     "showTitle": false,
     "tableResultSettingsMap": {},
     "title": ""
    }
   },
   "outputs": [],
   "source": [
    "if len(data) > 0:\n",
    "\n",
    "    # Get the current datetime\n",
    "    now = datetime.now()\n",
    "    timestamp_str= now.strftime('%Y%m%d_%H:%M:%S_%f')\n",
    "\n",
    "    dbutils.fs.put(f\"/Volumes/workspace/samples/taxi/trips_sample_{timestamp_str}.json\", data, True)\n",
    "    print(f\"/Volumes/workspace/samples/taxi/trips_sample_{timestamp_str}.json.json\")"
   ]
  }
 ],
 "metadata": {
  "application/vnd.databricks.v1+notebook": {
   "computePreferences": null,
   "dashboards": [],
   "environmentMetadata": {
    "base_environment": "",
    "environment_version": "3"
   },
   "inputWidgetPreferences": null,
   "language": "python",
   "notebookMetadata": {
    "pythonIndentUnit": 4
   },
   "notebookName": "Taxi Trips Raw",
   "widgets": {}
  },
  "language_info": {
   "name": "python"
  }
 },
 "nbformat": 4,
 "nbformat_minor": 0
}
